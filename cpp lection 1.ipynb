{
 "cells": [
  {
   "cell_type": "markdown",
   "id": "b064d5b0",
   "metadata": {},
   "source": [
    "# C++ course "
   ]
  },
  {
   "cell_type": "markdown",
   "id": "d94d774f",
   "metadata": {},
   "source": [
    "## Description\n",
    "The basic C ++ course is intended for use in a ROS environment. The course is organized in such a way as to favor practical applications, the theoretical part is inserted to support the exercises and when possible it is explained in the comments (// text).\n",
    "\n",
    "C ++ is a compiled language. For this reason, once the program has been written, with a text editor such as _gedit_, it must be compiled. In the ROS environment, the program file is compiled with the following command from the terminal:"
   ]
  },
  {
   "cell_type": "code",
   "execution_count": null,
   "id": "eb6e4ad1",
   "metadata": {},
   "outputs": [],
   "source": [
    "g++ -std=c++11 cpp_ex1.cpp -o cpp_ex1"
   ]
  },
  {
   "cell_type": "markdown",
   "id": "f9ade83b",
   "metadata": {},
   "source": [
    "### Course prerequisite\n",
    "1. a version of ROS available;\n",
    "2. basic knowledge of linux bash."
   ]
  },
  {
   "cell_type": "markdown",
   "id": "3ff5732f",
   "metadata": {},
   "source": [
    "## exercise 1"
   ]
  },
  {
   "cell_type": "markdown",
   "id": "59001769",
   "metadata": {},
   "source": [
    "### Objectives:\n",
    "1. create a ROS package;\n",
    "2. define variables;\n",
    "3. print a result."
   ]
  },
  {
   "cell_type": "markdown",
   "id": "86f4c11a",
   "metadata": {},
   "source": [
    "### create a ROS package\n",
    "At this point it is necessary that exist already a _catkin_ws_ workspace. Go to _catkin_ws_ directory and type as follow:"
   ]
  },
  {
   "cell_type": "code",
   "execution_count": null,
   "id": "543d289e",
   "metadata": {},
   "outputs": [],
   "source": [
    "cd src\n",
    "catkin_create_pkg cpp_couse roscpp\n",
    "roscd cpp_couse\n",
    "ls\n",
    "cd src\n",
    "touch cpp_ex1.cpp"
   ]
  },
  {
   "cell_type": "raw",
   "id": "cbad862f",
   "metadata": {},
   "source": [
    "Use a text editor as _gedit_ or _nano_. If _gedit_ is not available you may install typing:"
   ]
  },
  {
   "cell_type": "code",
   "execution_count": null,
   "id": "11a9749a",
   "metadata": {},
   "outputs": [],
   "source": [
    "sudo apt install gedit"
   ]
  },
  {
   "cell_type": "markdown",
   "id": "216b3bdc",
   "metadata": {},
   "source": [
    "Open cpp_ex1 using _nano_ and copy inside the program below:"
   ]
  },
  {
   "cell_type": "code",
   "execution_count": null,
   "id": "855a2555",
   "metadata": {},
   "outputs": [],
   "source": [
    "sudo nano cpp_ex1.cpp"
   ]
  },
  {
   "cell_type": "code",
   "execution_count": null,
   "id": "3654202b",
   "metadata": {},
   "outputs": [],
   "source": [
    "#include <ros/ros.h> // add ROS C++ library\n",
    "\n",
    "int main(int argc, char **argv) {\n",
    "    ros::init(argc, argv, \"ros_node\"); // define a ROS node on which run the program\n",
    "\n",
    "    int a=5; // define a variable int (integer)\n",
    "    float b=0.125; // define a variable float (real) (number with 7 decimals)\n",
    "\n",
    "    double pi=3.141592654; // define a variable double (double precision: number with 15 decimals)\n",
    "    bool vera = true; // efine a logic (boolena) variable: true o false\n",
    "    bool falsa = false;\n",
    "\n",
    "    ROS_INFO_STREAM(\"int variable contains the integer number\" << a); // print in the terminal\n",
    "    ROS_INFO_STREAM(\"float variable contains the real number \" << b); // print in the terminal\n",
    "    ROS_INFO_STREAM(\"float variable contains the real number\" << pi); // print in the terminal\n",
    "    ROS_INFO_STREAM(\"true boolean variable is equal to \" << vera); // print in the terminal\n",
    "    ROS_INFO_STREAM(\"false boolean variable is equal to \" << falsa); // print in the terminal\n",
    "  return 0; // main function returns nothing.\n",
    "    }"
   ]
  },
  {
   "cell_type": "markdown",
   "id": "61a99ba4",
   "metadata": {},
   "source": [
    "Save the file _cpp_ex1.cpp_ and in the _cpp_course_ folder type:"
   ]
  },
  {
   "cell_type": "code",
   "execution_count": null,
   "id": "2e1c2c8d",
   "metadata": {},
   "outputs": [],
   "source": [
    "g++ -std=c++11 cpp_ex1.cpp -o cpp_ex1"
   ]
  },
  {
   "cell_type": "markdown",
   "id": "1cc0735c",
   "metadata": {},
   "source": [
    "To run the program, type"
   ]
  },
  {
   "cell_type": "code",
   "execution_count": null,
   "id": "620c1e9e",
   "metadata": {},
   "outputs": [],
   "source": [
    "rosrun cpp_course cpp_ex1"
   ]
  },
  {
   "cell_type": "code",
   "execution_count": null,
   "id": "11399d1f",
   "metadata": {},
   "outputs": [],
   "source": [
    "In the terminal it appears"
   ]
  },
  {
   "cell_type": "raw",
   "id": "ddd7ba7c",
   "metadata": {},
   "source": [
    "[ INFO] [1636384603.960153229]: int variable contains the integer number 5\n",
    "[ INFO] [1636384603.963930186]: float variable contains the real number 0.125\n",
    "[ INFO] [1636384603.963957768]: float variable contains the real number 3.14159\n",
    "[ INFO] [1636384603.963984188]: true boolean variable is equal to 1\n",
    "[ INFO] [1636384603.964008045]: false boolean variable is equal to a 0"
   ]
  }
 ],
 "metadata": {
  "kernelspec": {
   "display_name": "C++11",
   "language": "C++11",
   "name": "xcpp11"
  },
  "language_info": {
   "codemirror_mode": "text/x-c++src",
   "file_extension": ".cpp",
   "mimetype": "text/x-c++src",
   "name": "c++",
   "version": "11"
  }
 },
 "nbformat": 4,
 "nbformat_minor": 5
}
